{
  "nbformat": 4,
  "nbformat_minor": 0,
  "metadata": {
    "colab": {
      "provenance": [],
      "gpuType": "T4"
    },
    "kernelspec": {
      "name": "python3",
      "display_name": "Python 3"
    },
    "language_info": {
      "name": "python"
    },
    "accelerator": "GPU"
  },
  "cells": [
    {
      "cell_type": "code",
      "source": [
        "!pip install langchain faiss-cpu PyPDF2 tabula-py pandas langchain-community langchain-groq\n"
      ],
      "metadata": {
        "colab": {
          "base_uri": "https://localhost:8080/"
        },
        "id": "f17Spa-04149",
        "outputId": "b040c285-ebd6-40ca-d86e-6c8cafff97d7"
      },
      "execution_count": 40,
      "outputs": [
        {
          "output_type": "stream",
          "name": "stdout",
          "text": [
            "Requirement already satisfied: langchain in /usr/local/lib/python3.11/dist-packages (0.3.20)\n",
            "Requirement already satisfied: faiss-cpu in /usr/local/lib/python3.11/dist-packages (1.10.0)\n",
            "Requirement already satisfied: PyPDF2 in /usr/local/lib/python3.11/dist-packages (3.0.1)\n",
            "Requirement already satisfied: tabula-py in /usr/local/lib/python3.11/dist-packages (2.10.0)\n",
            "Requirement already satisfied: pandas in /usr/local/lib/python3.11/dist-packages (2.2.2)\n",
            "Requirement already satisfied: langchain-community in /usr/local/lib/python3.11/dist-packages (0.3.19)\n",
            "Requirement already satisfied: langchain-groq in /usr/local/lib/python3.11/dist-packages (0.2.5)\n",
            "Requirement already satisfied: langchain-core<1.0.0,>=0.3.41 in /usr/local/lib/python3.11/dist-packages (from langchain) (0.3.43)\n",
            "Requirement already satisfied: langchain-text-splitters<1.0.0,>=0.3.6 in /usr/local/lib/python3.11/dist-packages (from langchain) (0.3.6)\n",
            "Requirement already satisfied: langsmith<0.4,>=0.1.17 in /usr/local/lib/python3.11/dist-packages (from langchain) (0.3.11)\n",
            "Requirement already satisfied: pydantic<3.0.0,>=2.7.4 in /usr/local/lib/python3.11/dist-packages (from langchain) (2.10.6)\n",
            "Requirement already satisfied: SQLAlchemy<3,>=1.4 in /usr/local/lib/python3.11/dist-packages (from langchain) (2.0.38)\n",
            "Requirement already satisfied: requests<3,>=2 in /usr/local/lib/python3.11/dist-packages (from langchain) (2.32.3)\n",
            "Requirement already satisfied: PyYAML>=5.3 in /usr/local/lib/python3.11/dist-packages (from langchain) (6.0.2)\n",
            "Requirement already satisfied: numpy<3.0,>=1.25.0 in /usr/local/lib/python3.11/dist-packages (from faiss-cpu) (1.26.4)\n",
            "Requirement already satisfied: packaging in /usr/local/lib/python3.11/dist-packages (from faiss-cpu) (24.2)\n",
            "Requirement already satisfied: distro in /usr/local/lib/python3.11/dist-packages (from tabula-py) (1.9.0)\n",
            "Requirement already satisfied: python-dateutil>=2.8.2 in /usr/local/lib/python3.11/dist-packages (from pandas) (2.8.2)\n",
            "Requirement already satisfied: pytz>=2020.1 in /usr/local/lib/python3.11/dist-packages (from pandas) (2025.1)\n",
            "Requirement already satisfied: tzdata>=2022.7 in /usr/local/lib/python3.11/dist-packages (from pandas) (2025.1)\n",
            "Requirement already satisfied: aiohttp<4.0.0,>=3.8.3 in /usr/local/lib/python3.11/dist-packages (from langchain-community) (3.11.13)\n",
            "Requirement already satisfied: tenacity!=8.4.0,<10,>=8.1.0 in /usr/local/lib/python3.11/dist-packages (from langchain-community) (9.0.0)\n",
            "Requirement already satisfied: dataclasses-json<0.7,>=0.5.7 in /usr/local/lib/python3.11/dist-packages (from langchain-community) (0.6.7)\n",
            "Requirement already satisfied: pydantic-settings<3.0.0,>=2.4.0 in /usr/local/lib/python3.11/dist-packages (from langchain-community) (2.8.1)\n",
            "Requirement already satisfied: httpx-sse<1.0.0,>=0.4.0 in /usr/local/lib/python3.11/dist-packages (from langchain-community) (0.4.0)\n",
            "Requirement already satisfied: groq<1,>=0.4.1 in /usr/local/lib/python3.11/dist-packages (from langchain-groq) (0.18.0)\n",
            "Requirement already satisfied: aiohappyeyeballs>=2.3.0 in /usr/local/lib/python3.11/dist-packages (from aiohttp<4.0.0,>=3.8.3->langchain-community) (2.5.0)\n",
            "Requirement already satisfied: aiosignal>=1.1.2 in /usr/local/lib/python3.11/dist-packages (from aiohttp<4.0.0,>=3.8.3->langchain-community) (1.3.2)\n",
            "Requirement already satisfied: attrs>=17.3.0 in /usr/local/lib/python3.11/dist-packages (from aiohttp<4.0.0,>=3.8.3->langchain-community) (25.1.0)\n",
            "Requirement already satisfied: frozenlist>=1.1.1 in /usr/local/lib/python3.11/dist-packages (from aiohttp<4.0.0,>=3.8.3->langchain-community) (1.5.0)\n",
            "Requirement already satisfied: multidict<7.0,>=4.5 in /usr/local/lib/python3.11/dist-packages (from aiohttp<4.0.0,>=3.8.3->langchain-community) (6.1.0)\n",
            "Requirement already satisfied: propcache>=0.2.0 in /usr/local/lib/python3.11/dist-packages (from aiohttp<4.0.0,>=3.8.3->langchain-community) (0.3.0)\n",
            "Requirement already satisfied: yarl<2.0,>=1.17.0 in /usr/local/lib/python3.11/dist-packages (from aiohttp<4.0.0,>=3.8.3->langchain-community) (1.18.3)\n",
            "Requirement already satisfied: marshmallow<4.0.0,>=3.18.0 in /usr/local/lib/python3.11/dist-packages (from dataclasses-json<0.7,>=0.5.7->langchain-community) (3.26.1)\n",
            "Requirement already satisfied: typing-inspect<1,>=0.4.0 in /usr/local/lib/python3.11/dist-packages (from dataclasses-json<0.7,>=0.5.7->langchain-community) (0.9.0)\n",
            "Requirement already satisfied: anyio<5,>=3.5.0 in /usr/local/lib/python3.11/dist-packages (from groq<1,>=0.4.1->langchain-groq) (3.7.1)\n",
            "Requirement already satisfied: httpx<1,>=0.23.0 in /usr/local/lib/python3.11/dist-packages (from groq<1,>=0.4.1->langchain-groq) (0.28.1)\n",
            "Requirement already satisfied: sniffio in /usr/local/lib/python3.11/dist-packages (from groq<1,>=0.4.1->langchain-groq) (1.3.1)\n",
            "Requirement already satisfied: typing-extensions<5,>=4.10 in /usr/local/lib/python3.11/dist-packages (from groq<1,>=0.4.1->langchain-groq) (4.12.2)\n",
            "Requirement already satisfied: jsonpatch<2.0,>=1.33 in /usr/local/lib/python3.11/dist-packages (from langchain-core<1.0.0,>=0.3.41->langchain) (1.33)\n",
            "Requirement already satisfied: orjson<4.0.0,>=3.9.14 in /usr/local/lib/python3.11/dist-packages (from langsmith<0.4,>=0.1.17->langchain) (3.10.15)\n",
            "Requirement already satisfied: requests-toolbelt<2.0.0,>=1.0.0 in /usr/local/lib/python3.11/dist-packages (from langsmith<0.4,>=0.1.17->langchain) (1.0.0)\n",
            "Requirement already satisfied: zstandard<0.24.0,>=0.23.0 in /usr/local/lib/python3.11/dist-packages (from langsmith<0.4,>=0.1.17->langchain) (0.23.0)\n",
            "Requirement already satisfied: annotated-types>=0.6.0 in /usr/local/lib/python3.11/dist-packages (from pydantic<3.0.0,>=2.7.4->langchain) (0.7.0)\n",
            "Requirement already satisfied: pydantic-core==2.27.2 in /usr/local/lib/python3.11/dist-packages (from pydantic<3.0.0,>=2.7.4->langchain) (2.27.2)\n",
            "Requirement already satisfied: python-dotenv>=0.21.0 in /usr/local/lib/python3.11/dist-packages (from pydantic-settings<3.0.0,>=2.4.0->langchain-community) (1.0.1)\n",
            "Requirement already satisfied: six>=1.5 in /usr/local/lib/python3.11/dist-packages (from python-dateutil>=2.8.2->pandas) (1.17.0)\n",
            "Requirement already satisfied: charset-normalizer<4,>=2 in /usr/local/lib/python3.11/dist-packages (from requests<3,>=2->langchain) (3.4.1)\n",
            "Requirement already satisfied: idna<4,>=2.5 in /usr/local/lib/python3.11/dist-packages (from requests<3,>=2->langchain) (3.10)\n",
            "Requirement already satisfied: urllib3<3,>=1.21.1 in /usr/local/lib/python3.11/dist-packages (from requests<3,>=2->langchain) (2.3.0)\n",
            "Requirement already satisfied: certifi>=2017.4.17 in /usr/local/lib/python3.11/dist-packages (from requests<3,>=2->langchain) (2025.1.31)\n",
            "Requirement already satisfied: greenlet!=0.4.17 in /usr/local/lib/python3.11/dist-packages (from SQLAlchemy<3,>=1.4->langchain) (3.1.1)\n",
            "Requirement already satisfied: httpcore==1.* in /usr/local/lib/python3.11/dist-packages (from httpx<1,>=0.23.0->groq<1,>=0.4.1->langchain-groq) (1.0.7)\n",
            "Requirement already satisfied: h11<0.15,>=0.13 in /usr/local/lib/python3.11/dist-packages (from httpcore==1.*->httpx<1,>=0.23.0->groq<1,>=0.4.1->langchain-groq) (0.14.0)\n",
            "Requirement already satisfied: jsonpointer>=1.9 in /usr/local/lib/python3.11/dist-packages (from jsonpatch<2.0,>=1.33->langchain-core<1.0.0,>=0.3.41->langchain) (3.0.0)\n",
            "Requirement already satisfied: mypy-extensions>=0.3.0 in /usr/local/lib/python3.11/dist-packages (from typing-inspect<1,>=0.4.0->dataclasses-json<0.7,>=0.5.7->langchain-community) (1.0.0)\n"
          ]
        }
      ]
    },
    {
      "cell_type": "code",
      "execution_count": 41,
      "metadata": {
        "id": "yljlRzUS4HV1"
      },
      "outputs": [],
      "source": [
        "import os\n",
        "import tabula\n",
        "import PyPDF2\n",
        "import pandas as pd\n",
        "from langchain.embeddings import HuggingFaceEmbeddings\n",
        "from langchain.vectorstores import FAISS\n",
        "from langchain.text_splitter import CharacterTextSplitter\n",
        "from langchain_groq import ChatGroq\n",
        "from langchain.schema import SystemMessage, HumanMessage"
      ]
    },
    {
      "cell_type": "code",
      "source": [
        "api_key = \"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\""
      ],
      "metadata": {
        "id": "wNsUrqHT4uC5"
      },
      "execution_count": 42,
      "outputs": []
    },
    {
      "cell_type": "code",
      "source": [
        "llm = ChatGroq(model_name=\"llama-3.2-1b-preview\",groq_api_key = api_key)"
      ],
      "metadata": {
        "id": "Ksl0AA3t40F7"
      },
      "execution_count": 66,
      "outputs": []
    },
    {
      "cell_type": "code",
      "source": [
        "pdf_path = \"/content/combined_document_10.pdf\""
      ],
      "metadata": {
        "id": "YdkzvSKC50Q-"
      },
      "execution_count": 44,
      "outputs": []
    },
    {
      "cell_type": "code",
      "source": [
        "def extract_text_from_pdf(pdf_path):\n",
        "    \"\"\"Extracts text from a PDF file using PyPDF2.\"\"\"\n",
        "    text = \"\"\n",
        "    with open(pdf_path, \"rb\") as file:\n",
        "        reader = PyPDF2.PdfReader(file)\n",
        "        for page in reader.pages:\n",
        "            page_text = page.extract_text()\n",
        "            if page_text:\n",
        "                text += page_text + \"\\n\"\n",
        "    return text"
      ],
      "metadata": {
        "id": "GEXQ7P4B7VIS"
      },
      "execution_count": 45,
      "outputs": []
    },
    {
      "cell_type": "code",
      "source": [
        "def extract_tables_from_pdf(pdf_path):\n",
        "    \"\"\"Extracts tables from a PDF file using tabula.\"\"\"\n",
        "    tables = tabula.read_pdf(pdf_path, pages='all', multiple_tables=True)\n",
        "    return tables\n",
        "\n",
        "def preprocess_text(text):\n",
        "    \"\"\"Splits text into chunks for indexing.\"\"\"\n",
        "    text_splitter = CharacterTextSplitter(chunk_size=500, chunk_overlap=100)\n",
        "    return text_splitter.split_text(text)\n",
        "\n",
        "def preprocess_tables(tables):\n",
        "    \"\"\"Converts tables to text format for vectorization.\"\"\"\n",
        "    table_texts = []\n",
        "    for df in tables:\n",
        "        table_texts.append(df.to_csv(index=False))  # Convert table to CSV-like text\n",
        "    return table_texts"
      ],
      "metadata": {
        "id": "RC5Ft4uH7VYI"
      },
      "execution_count": 46,
      "outputs": []
    },
    {
      "cell_type": "code",
      "source": [
        "print(\"Extracting text and tables from PDF...\")\n",
        "raw_text = extract_text_from_pdf(pdf_path)\n",
        "tables = extract_tables_from_pdf(pdf_path)\n",
        "\n",
        "# Preprocess text and tables\n",
        "text_chunks = preprocess_text(raw_text)\n",
        "table_chunks = preprocess_tables(tables)\n",
        "\n",
        "# Combine text and table data\n",
        "data_chunks = text_chunks + table_chunks\n"
      ],
      "metadata": {
        "colab": {
          "base_uri": "https://localhost:8080/"
        },
        "id": "zqPvkEUH7Vce",
        "outputId": "a1cff5b6-7e66-49f3-974e-f7932e9607fb"
      },
      "execution_count": 47,
      "outputs": [
        {
          "output_type": "stream",
          "name": "stdout",
          "text": [
            "Extracting text and tables from PDF...\n"
          ]
        },
        {
          "output_type": "stream",
          "name": "stderr",
          "text": [
            "WARNING:tabula.backend:Got stderr: Mar 11, 2025 6:57:36 AM org.apache.pdfbox.pdmodel.font.PDTrueTypeFont <init>\n",
            "WARNING: Using fallback font 'LiberationSans' for 'TimesNewRomanPSMT'\n",
            "Mar 11, 2025 6:57:38 AM org.apache.pdfbox.pdmodel.font.PDTrueTypeFont <init>\n",
            "WARNING: Using fallback font 'LiberationSans' for 'TimesNewRomanPSMT'\n",
            "Mar 11, 2025 6:57:45 AM org.apache.pdfbox.pdmodel.font.PDTrueTypeFont <init>\n",
            "WARNING: Using fallback font 'LiberationSans' for 'TimesNewRomanPSMT'\n",
            "Mar 11, 2025 6:57:46 AM org.apache.pdfbox.pdmodel.font.PDTrueTypeFont <init>\n",
            "WARNING: Using fallback font 'LiberationSans' for 'TimesNewRomanPSMT'\n",
            "Mar 11, 2025 6:57:46 AM org.apache.pdfbox.pdmodel.font.PDTrueTypeFont <init>\n",
            "WARNING: Using fallback font 'LiberationSans' for 'TimesNewRomanPSMT'\n",
            "Mar 11, 2025 6:57:47 AM org.apache.pdfbox.pdmodel.font.PDTrueTypeFont <init>\n",
            "WARNING: Using fallback font 'LiberationSans' for 'TimesNewRomanPSMT'\n",
            "Mar 11, 2025 6:57:47 AM org.apache.pdfbox.pdmodel.font.PDTrueTypeFont <init>\n",
            "WARNING: Using fallback font 'LiberationSans' for 'TimesNewRomanPSMT'\n",
            "Mar 11, 2025 6:57:47 AM org.apache.pdfbox.pdmodel.font.PDTrueTypeFont <init>\n",
            "WARNING: Using fallback font 'LiberationSans' for 'TimesNewRomanPSMT'\n",
            "Mar 11, 2025 6:57:48 AM org.apache.pdfbox.pdmodel.font.PDTrueTypeFont <init>\n",
            "WARNING: Using fallback font 'LiberationSans' for 'TimesNewRomanPSMT'\n",
            "Mar 11, 2025 6:57:48 AM org.apache.pdfbox.pdmodel.font.PDTrueTypeFont <init>\n",
            "WARNING: Using fallback font 'LiberationSans' for 'TimesNewRomanPSMT'\n",
            "\n"
          ]
        }
      ]
    },
    {
      "cell_type": "code",
      "source": [
        "embedding_model = HuggingFaceEmbeddings(model_name=\"sentence-transformers/all-MiniLM-L6-v2\")\n",
        "\n",
        "# Create FAISS vector store\n",
        "vector_db = FAISS.from_texts(data_chunks, embedding_model)\n",
        "\n",
        "# Save FAISS index\n",
        "vector_db.save_local(\"faiss_index\")\n",
        "\n",
        "print(\"Vector database created successfully!\")"
      ],
      "metadata": {
        "colab": {
          "base_uri": "https://localhost:8080/"
        },
        "id": "55xfUyvN7Vgk",
        "outputId": "4eb124ad-90e7-48a6-bdba-2b85822ae3a7"
      },
      "execution_count": 48,
      "outputs": [
        {
          "output_type": "stream",
          "name": "stdout",
          "text": [
            "Vector database created successfully!\n"
          ]
        }
      ]
    },
    {
      "cell_type": "code",
      "source": [
        "def retrieve_and_generate(query):\n",
        "    \"\"\"Retrieves relevant document chunks and generates a response using Groq LLM.\"\"\"\n",
        "    # Search in FAISS vector database\n",
        "    search_results = vector_db.similarity_search(query, k=1)\n",
        "    context = \"\\n\".join([doc.page_content for doc in search_results])\n",
        "\n",
        "    # Prepare messages for LLM\n",
        "    messages = [\n",
        "        SystemMessage(content=\"You are a helpful AI assistant that answers financial document queries accurately.\"),\n",
        "        HumanMessage(content=f\"Using the following document context, answer the query:\\n\\n{context}\\n\\nQuery: {query}\")\n",
        "    ]\n",
        "\n",
        "    # Generate response using Groq LLM\n",
        "    response = llm(messages)\n",
        "    return response.content"
      ],
      "metadata": {
        "id": "FEAdIMyt7uGI"
      },
      "execution_count": 71,
      "outputs": []
    },
    {
      "cell_type": "code",
      "source": [
        "query = \"How much did Apple's Services segment contribute to total net sales in 2018, and what was the year-over-year growth percentage? \"\n",
        "response = retrieve_and_generate(query)\n",
        "\n",
        "print(\"\\nGenerated Response:\\n\", response)"
      ],
      "metadata": {
        "colab": {
          "base_uri": "https://localhost:8080/"
        },
        "id": "NIyi7J8R7uUn",
        "outputId": "f602e65d-12d2-4446-be42-d8d7064dbb3b"
      },
      "execution_count": 56,
      "outputs": [
        {
          "output_type": "stream",
          "name": "stdout",
          "text": [
            "\n",
            "Generated Response:\n",
            " According to the document, the Services segment for 2018 had the following values:\n",
            "\n",
            "- Net sales: $37,190\n",
            "- Year-over-year growth percentage: 24%\n",
            "\n",
            "To find the contribution to total net sales, we need to look at the total net sales for 2018. However, the document does not explicitly provide the total net sales for 2018, but it does show the net sales for 2018 under 'Unnamed: 0', which is $20,453, $22,090, $23,317, and $89,950.\n",
            "\n",
            "Since the years 2018 and the corresponding years are not explicitly mentioned in the same row, we can use the year 2018 corresponding to each of the mentioned values:\n",
            "\n",
            "- Year 2017: $20,453\n",
            "- Year 2017: $22,090\n",
            "- Year 2017: $23,317\n",
            "- Year 2018: $89,950\n",
            "\n",
            "The contribution of the Services segment to total net sales in 2018 can be calculated as follows:\n",
            "\n",
            "Total net sales for 2018 = $89,950\n",
            "Contribution of Services segment = $37,190\n",
            "Year-over-year growth percentage = ( ($37,190 / $89,950) * 100 ) - 1 ≈ 41.8%\n",
            "\n",
            "So, the Services segment contributed approximately 41.8% to Apple's total net sales in 2018, and the year-over-year growth was 41.8%.\n"
          ]
        }
      ]
    },
    {
      "cell_type": "code",
      "source": [
        "query2 = \"How many shares did Microsoft repurchase in fiscal year 2016,and what was the total amount spent?  \"\n",
        "response2 = retrieve_and_generate(query2)\n",
        "\n",
        "print(\"\\nGenerated Response:\\n\", response2)"
      ],
      "metadata": {
        "colab": {
          "base_uri": "https://localhost:8080/"
        },
        "id": "gyxpSTkc7uk4",
        "outputId": "6afb9750-40be-40ff-8e19-3edaf1fb1966"
      },
      "execution_count": 67,
      "outputs": [
        {
          "output_type": "stream",
          "name": "stdout",
          "text": [
            "\n",
            "Generated Response:\n",
            " According to the document, Microsoft repurchased the following shares of common stock under the share repurchase plan in fiscal year 2016:\n",
            "\n",
            "(In millions) \n",
            "Shares  Amount  Shares  Amount  Shares  Amount\n",
            "October  1, 2016  $  5,000  $  4,500  $  4,500  $  4,500  $  4,500\n",
            "November  19, 2016  $  2,000  $  1,900  $  1,900  $  1,900  $  1,900\n",
            "December  10, 2016  $  2,842  $  2,700  $  2,700  $  2,700  $  2,700\n",
            "March  10, 2016  $  2,821  $  2,700  $  2,700  $  2,700  $  2,700\n",
            "June  9, 2016  $  2,821  $  2,700  $  2,700  $  2,700  $  2,700\n",
            "June 14, 2016  $  2,811  $  2,700  $  2,700  $  2,700  $  2,700\n",
            "\n",
            "Total amount spent: $20,380 million\n"
          ]
        }
      ]
    },
    {
      "cell_type": "code",
      "source": [
        "q3 =\"What was the dividend per share declared by Microsoft in September 2015?\"\n",
        "r3 = retrieve_and_generate(q3)\n",
        "print(\"\\nGenerated Response:\\n\", r3)"
      ],
      "metadata": {
        "colab": {
          "base_uri": "https://localhost:8080/"
        },
        "id": "_fG_2LkiAytX",
        "outputId": "414b2158-d3ef-43e8-d6b1-b999f77e3965"
      },
      "execution_count": 68,
      "outputs": [
        {
          "output_type": "stream",
          "name": "stdout",
          "text": [
            "\n",
            "Generated Response:\n",
            " To find the dividend declared by Microsoft in September 2015, we need to look for the \"Declaration Date\" and \"Per Share\" columns in the provided date range.\n",
            "\n",
            "From the provided information, we can find the following dates:\n",
            "\n",
            "* September 16, 2014\n",
            "* November 20, 2014\n",
            "* March 10, 2015\n",
            "\n",
            "We can see that the \"Per Share\" column for September 16, 2014 is $0.31.\n",
            "\n",
            "Therefore, the dividend declared by Microsoft in September 2015 was $0.31 per share.\n"
          ]
        }
      ]
    },
    {
      "cell_type": "code",
      "source": [
        "queries = [\n",
        "    \"How much did Apple spend on Research and Development in fiscal year 2018, and how did it change compared to 2017?\",\n",
        "    \"What were the total iPhone sales figures (in units) for Apple in 2018, and how did this compare to the previous year?\",\n",
        "    \"How many shares did Microsoft repurchase in fiscal year 2016, and what was the total amount spent?\",\n",
        "    \"What was Apple's net sales figure for the Americas region in 2018, and what percentage of total net sales did this represent?\",\n",
        "    \"When did Microsoft acquire LinkedIn Corporation according to the quarterly information?\",\n",
        "    \"What was the dividend per share declared by Microsoft in September 2015?\",\n",
        "    \"What factors contributed to the increase in iPad net sales during 2018 compared to 2017?\",\n",
        "    \"How much did Apple's Services segment contribute to total net sales in 2018, and what was the year-over-year growth percentage?\",\n",
        "    \"What were the main components of Microsoft's 'Other Income (Expense), Net' for fiscal year 2018?\",\n",
        "    \"What was Apple's gross margin percentage range anticipated for the first quarter of 2019?\"\n",
        "]\n",
        "\n",
        "# Run queries and print responses\n",
        "for i, query in enumerate(queries, 1):\n",
        "    print(f\"Q{i}: {query}\")\n",
        "    print(f\"A{i}: {retrieve_and_generate(query)}\\n\")"
      ],
      "metadata": {
        "colab": {
          "base_uri": "https://localhost:8080/"
        },
        "id": "eUck9qbbCTP6",
        "outputId": "4f7e488f-0646-4f12-87b2-ddd800ff7abc"
      },
      "execution_count": 72,
      "outputs": [
        {
          "output_type": "stream",
          "name": "stdout",
          "text": [
            "Q1: How much did Apple spend on Research and Development in fiscal year 2018, and how did it change compared to 2017?\n",
            "A1: To answer your query, I need to extract the relevant data from the given document.\n",
            "\n",
            "According to the document, the expenditure for Research and Development (R&D) for Apple in fiscal years 2016, 2015, and 2014 is as follows:\n",
            "\n",
            "1. 2016:\n",
            "   * Year Ended June 30: 2016\n",
            "   * R&D Expenditure: $89.0\n",
            "\n",
            "2. 2015:\n",
            "   * Year Ended June 30: 2015\n",
            "   * R&D Expenditure: $66.0\n",
            "\n",
            "3. 2014:\n",
            "   * Year Ended June 30: 2014\n",
            "   * R&D Expenditure: $66.0\n",
            "\n",
            "Now, let's compare the R&D expenditure for 2016 and 2017:\n",
            "\n",
            "2017: $89.0\n",
            "Difference: $89.0 - $66.0 = $23.0\n",
            "\n",
            "So, Apple spent $23.0 less on Research and Development in 2017 compared to 2016.\n",
            "\n",
            "Q2: What were the total iPhone sales figures (in units) for Apple in 2018, and how did this compare to the previous year?\n",
            "A2: To find the total iPhone sales figures for Apple in 2018, we need to sum up the sales figures for iPhone.\n",
            "\n",
            "The iPhone sales figures for 2018 are: $166,699, $141,319, $136,700, $20,628.\n",
            "\n",
            "The total iPhone sales figures for Apple in 2018 are:\n",
            "\n",
            "$166,699 + $141,319 + $136,700 + $20,628 = $495,995 units\n",
            "\n",
            "To find the comparison to the previous year (2017), we need to refer to the previous year's sales figures:\n",
            "\n",
            "The iPhone sales figures for 2017 are: $166,699, $141,319, $136,700, $108,162 (not provided in the provided document, but can be calculated using the provided US dollar and percentage figures).\n",
            "\n",
            "The total iPhone sales figures for Apple in 2017 are:\n",
            "$166,699 + $141,319 + $136,700 + $108,162 = $510,970 units\n",
            "\n",
            "The comparison to the previous year (2017) shows that Apple's iPhone sales increased by $4,983 units from 2017 to 2018.\n",
            "\n",
            "Q3: How many shares did Microsoft repurchase in fiscal year 2016, and what was the total amount spent?\n",
            "A3: Microsoft repurchased shares of common stock under the share repurchase plan for fiscal year 2016. According to the table provided, the total number of shares repurchased was 294 million.\n",
            "\n",
            "Q4: What was Apple's net sales figure for the Americas region in 2018, and what percentage of total net sales did this represent?\n",
            "A4: To find Apple's net sales figure for the Americas region in 2018, we need to first identify the 'Americas' segment in the report. \n",
            "\n",
            "In the report, the 'Americas' segment is listed as 'Americas', which is part of the 'Total net sales' segment.\n",
            "\n",
            "To find the percentage of total net sales, we need to identify the 'Total net sales' segment in the report. \n",
            "\n",
            "In the report, the 'Total net sales' segment is listed as '$265,595', which represents the total net sales figure.\n",
            "\n",
            "Now, we can find the percentage of total net sales for the Americas region by dividing the net sales figure for the Americas region by the total net sales, and then multiplying by 100.\n",
            "\n",
            "$265,595 (Total net sales) ÷ $265,595 (Total net sales) * 100 = 100%\n",
            "\n",
            "Therefore, Apple's net sales figure for the Americas region in 2018 was $265,595, which represented 100% of the total net sales.\n",
            "\n",
            "Q5: When did Microsoft acquire LinkedIn Corporation according to the quarterly information?\n",
            "A5: According to the quarterly information, Microsoft acquired LinkedIn Corporation on December 8, 2016.\n",
            "\n",
            "Q6: What was the dividend per share declared by Microsoft in September 2015?\n",
            "A6: To determine the dividend per share declared by Microsoft in September 2015, we need to look at the data provided in the document context and find the dividend declaration date and record date for September 2015.\n",
            "\n",
            "According to the document context, the dividend declaration dates and record dates for September 2015 were:\n",
            "\n",
            "- September 16, 2014: $0.31\n",
            "- November 19, 2015: $2,868\n",
            "- December 10, 2015: $0.36 (No record date provided, but it seems to be the same as November 19, 2015 or September 16, 2014)\n",
            "\n",
            "Since the dividend declaration date of $2,868 is on November 19, 2015, which is after September 16, 2014, the dividend in September 2015 would be $0.36.\n",
            "\n",
            "To confirm this, let's examine the dividend declaration dates and record dates for other months:\n",
            "\n",
            "- September 16, 2014: $0.31\n",
            "- November 20, 2014: $2,547\n",
            "- December 11, 2014: $2,547\n",
            "\n",
            "We can see that the dividend of $0.31 was declared on September 16, 2014, and the record date was November 20, 2014.\n",
            "\n",
            "- February 18, 2016: $2,842\n",
            "- March 10, 2016: $2,821\n",
            "\n",
            "The dividend of $0.36 was declared on September 16, 2014, and the record date was November 20, 2014.\n",
            "\n",
            "- May 19, 2016: $2,821\n",
            "- June 9, 2016: $2,811\n",
            "\n",
            "The dividend of $0.36 was declared on September 16, 2014, and the record date was November 20, 2014.\n",
            "\n",
            "- August 18, 2016: $2,811\n",
            "- September 8, 2016: $2,811\n",
            "\n",
            "The dividend of $0.36 was declared on September 16, 2014, and the record date was November 20, 2014.\n",
            "\n",
            "- August 20, 2015: $2,475\n",
            "\n",
            "The dividend of $0.31 was declared on September 16, 2014, and the record date was November 20, 2014.\n",
            "\n",
            "Unfortunately, it seems that Microsoft did not declare a dividend on September 15, 2015.\n",
            "\n",
            "Q7: What factors contributed to the increase in iPad net sales during 2018 compared to 2017?\n",
            "A7: To find the factors contributing to the increase in iPad net sales during 2018 compared to 2017, we need to analyze the changes in the \"iPad (1)\" column for both years.\n",
            "\n",
            "In 2018, the \"iPad (1)\" column shows the net sales as 43,535. \n",
            "\n",
            "In 2017, the \"iPad (1)\" column shows the net sales as 43,535, which means there was no change in the net sales from 2017 to 2018.\n",
            "\n",
            "Therefore, the increase in iPad net sales from 2017 to 2018 is solely due to an increase in the net sales of the \"iPad (1)\" product.\n",
            "\n",
            "There is no other data that indicates a change in the underlying factors contributing to the increase in iPad net sales in 2018 compared to 2017.\n",
            "\n",
            "Q8: How much did Apple's Services segment contribute to total net sales in 2018, and what was the year-over-year growth percentage?\n",
            "A8: To determine the total net sales contribution of Apple's Services segment in 2018, we need to identify the segment's name in the 'ales by Product' column. Since the first column is 'ales by Product', we will analyze the 'ales by Segment' column which seems to contain the reportable segments for each product. \n",
            "\n",
            "The 'ales by Segment' column for Apple's products seems to be 'Total net sales$':,Americas,$,\"112,093\",16 %,,$,\"96,600\",12 %,,$,\"86,613\"\n",
            "Europe,,\"62,420\",14 %,,$,\"54,938\",10 %,,$,\"49,952\"\n",
            "Greater China,,\"51,942\",16 %,,$,\"44,764\",(8)%,,$,\"48,492\"\n",
            "Japan,,\"21,733\",23 %,,$,\"17,733\",5 %,,$,\"16,928\"\n",
            "Rest of Asia Pacific,,\"17,407\",15 %,,$,\"15,199\",11 %,,$,\"13,654\"\n",
            "Total net sales,$,\"265,595\",16 %,,$,\"229,234\",6 %,$,\"215,639\"\n",
            "\n",
            "Since the segment name is 'Total net sales$' or 'Services (2)', we will analyze the 'ales by Segment' column to identify the services segment.\n",
            "\n",
            "The 'ales by Segment' column for 'Services (2)' is 'Total net sales$':,Services (2),,\"37,190\",24 %,,\"29,980\",23 %,,\"24,348\". This suggests that Apple's Services segment contributed to total net sales of $37,190 for 2018.\n",
            "\n",
            "To determine the year-over-year growth percentage, we need to find the difference between the 2018 net sales and the 2018 net sales. However, since the growth percentage is not provided in the query, we'll assume that the growth percentage is the same as the segment's contribution to total net sales.\n",
            "\n",
            "The year-over-year growth percentage for the Services segment in 2018 would be (37,190 - 265,595) / 265,595 * 100 = (-28,415) / 265,595 * 100 = -10.7%\n",
            "\n",
            "However, this calculation is not accurate. Instead, we need to assume the growth percentage of the reported segment data. We can see that the growth percentage of the 'Total net sales$' segment in 2018 is 6 %. We can also see that the growth percentage of the 'Services (2)' segment in 2018 is 16 %. We can assume that the growth percentage of the 'Services (2)' segment is the same as the total growth percentage for the Services segment.\n",
            "\n",
            "We can calculate the year-over-year growth percentage for the Services segment as follows:\n",
            "\n",
            "2018 net sales = $37,190\n",
            "2019 net sales = $29,980 + 6% of $37,190\n",
            "= $29,980 + 0.06 * $37,190\n",
            "= $29,980 + $2,264\n",
            "= $32,244\n",
            "\n",
            "Year-over-year growth percentage = ((32,244 - 29,980) / 29,980) * 100\n",
            "= (2,264 / 29,980) * 100\n",
            "= 7.45%\n",
            "\n",
            "Therefore, Apple's Services segment contributed $2,264 to 2018 net sales, and its year-over-year growth percentage in 2018 was 7.45%.\n",
            "\n",
            "Q9: What were the main components of Microsoft's 'Other Income (Expense), Net' for fiscal year 2018?\n",
            "A9: To determine the main components of Microsoft's 'Other Income (Expense), Net' for fiscal year 2018, we need to look at the provided data.\n",
            "\n",
            "The 'Other Income (Expense), Net' column for fiscal year 2018 is:\n",
            "\n",
            "$ 5,330 (c)\n",
            "$ 3,756 (e)\n",
            "$ 16,798 (e)\n",
            "\n",
            "Comparing these numbers to the other components, we can see that the main components of Microsoft's 'Other Income (Expense), Net' for fiscal year 2018 were:\n",
            "\n",
            "1. Other Income - $ 16,798 (e)\n",
            "2. Other Expenses - $ 16,798 (e)\n",
            "3. Total Other Income (Expense) - $ 33,598 (e)\n",
            "\n",
            "This suggests that Microsoft's 'Other Income (Expense), Net' for fiscal year 2018 was equal to the sum of its 'Other Income' and 'Other Expenses' components, which both rose by $16,798.\n",
            "\n",
            "Q10: What was Apple's gross margin percentage range anticipated for the first quarter of 2019?\n",
            "A10: I cannot access financial documents, including Apple's financial reports for the first quarter of 2019.\n",
            "\n"
          ]
        }
      ]
    },
    {
      "cell_type": "code",
      "source": [],
      "metadata": {
        "id": "0YTSK-rdDJH0"
      },
      "execution_count": null,
      "outputs": []
    }
  ]
}